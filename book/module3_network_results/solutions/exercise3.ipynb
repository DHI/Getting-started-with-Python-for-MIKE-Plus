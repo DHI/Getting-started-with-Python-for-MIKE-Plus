{
 "cells": [
  {
   "cell_type": "code",
   "execution_count": null,
   "id": "1d7972d6",
   "metadata": {},
   "outputs": [],
   "source": [
    "import mikeio1d"
   ]
  },
  {
   "cell_type": "code",
   "execution_count": null,
   "id": "2b34b7c0",
   "metadata": {},
   "outputs": [],
   "source": [
    "res = mikeio1d.open(\n",
    "    \"network.res1d\",\n",
    "    nodes=[\"1\", \"5\", \"10\"],\n",
    "    quantities=[\"WaterLevel\"],\n",
    "    time=(\"1994-08-07 17:00:00\", \"1994-08-07 17:30:00\")\n",
    ")\n",
    "res"
   ]
  },
  {
   "cell_type": "code",
   "execution_count": null,
   "id": "e921dd1c",
   "metadata": {},
   "outputs": [],
   "source": [
    "df = res.to_dataframe()\n",
    "df.head()"
   ]
  },
  {
   "cell_type": "code",
   "execution_count": null,
   "id": "9400f3dd",
   "metadata": {},
   "outputs": [],
   "source": [
    "len(df)"
   ]
  }
 ],
 "metadata": {},
 "nbformat": 4,
 "nbformat_minor": 5
}
