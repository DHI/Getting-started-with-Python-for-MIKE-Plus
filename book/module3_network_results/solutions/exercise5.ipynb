{
 "cells": [
  {
   "cell_type": "code",
   "execution_count": null,
   "id": "9a81e248",
   "metadata": {},
   "outputs": [],
   "source": [
    "import pandas as pd\n",
    "import mikeio1d"
   ]
  },
  {
   "cell_type": "code",
   "execution_count": null,
   "id": "e368d196",
   "metadata": {},
   "outputs": [],
   "source": [
    "res = mikeio1d.open(\"model.res1d\")\n",
    "res"
   ]
  },
  {
   "cell_type": "code",
   "execution_count": null,
   "id": "b122f08e",
   "metadata": {},
   "outputs": [],
   "source": [
    "df = res.reaches[\"G60F260_G60F240_l1\"][-2].Discharge.to_dataframe()\n",
    "df"
   ]
  },
  {
   "cell_type": "code",
   "execution_count": null,
   "id": "d27c3295",
   "metadata": {},
   "outputs": [],
   "source": [
    "end_node = res.reaches[\"G60F260_G60F240_l1\"].end_node\n",
    "end_node"
   ]
  },
  {
   "cell_type": "code",
   "execution_count": null,
   "id": "4585c7fa",
   "metadata": {},
   "outputs": [],
   "source": [
    "res.nodes[end_node]"
   ]
  },
  {
   "cell_type": "code",
   "execution_count": null,
   "id": "7523de64",
   "metadata": {},
   "outputs": [],
   "source": [
    "df_obs = pd.read_csv(\"observed.csv\", index_col=0, parse_dates=True)\n",
    "df_obs"
   ]
  },
  {
   "cell_type": "code",
   "execution_count": null,
   "id": "bff111f4",
   "metadata": {},
   "outputs": [],
   "source": [
    "events = [\n",
    "    (\"2021-07-31 12:00\", \"2021-07-31 15:45\"),\n",
    "    (\"2021-07-28 17:25\", \"2021-07-28 20:55\"),\n",
    "    (\"2021-06-21 06:55\", \"2021-06-21 18:00\"),\n",
    "]\n",
    "\n",
    "for event in events:\n",
    "    df = res.reaches[\"G60F260_G60F240_l1\"][-2].Discharge.to_dataframe()\n",
    "    ax = df.loc[event[0] : event[1]].plot()\n",
    "    df_obs.loc[event[0] : event[1]].plot(ax=ax)"
   ]
  }
 ],
 "metadata": {},
 "nbformat": 4,
 "nbformat_minor": 5
}
