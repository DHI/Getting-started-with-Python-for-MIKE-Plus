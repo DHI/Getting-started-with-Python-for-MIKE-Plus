{
 "cells": [
  {
   "cell_type": "markdown",
   "id": "df36e7ac",
   "metadata": {},
   "source": [
    "# Exercise 1"
   ]
  },
  {
   "cell_type": "code",
   "execution_count": null,
   "id": "0de9e52b",
   "metadata": {},
   "outputs": [],
   "source": [
    "import mikeio1d"
   ]
  },
  {
   "cell_type": "code",
   "execution_count": null,
   "id": "8b07fba5",
   "metadata": {},
   "outputs": [],
   "source": [
    "res = mikeio1d.open(\"network.res1d\")\n",
    "res"
   ]
  },
  {
   "cell_type": "code",
   "execution_count": null,
   "id": "3f261415",
   "metadata": {},
   "outputs": [],
   "source": [
    "res.info()"
   ]
  },
  {
   "cell_type": "code",
   "execution_count": null,
   "id": "78b1cb7a",
   "metadata": {},
   "outputs": [],
   "source": [
    "df = res.nodes.WaterLevel.to_dataframe()\n",
    "df"
   ]
  },
  {
   "cell_type": "code",
   "execution_count": null,
   "id": "5912fb22",
   "metadata": {},
   "outputs": [],
   "source": [
    "df.describe()"
   ]
  },
  {
   "cell_type": "markdown",
   "id": "ef92cfb9",
   "metadata": {},
   "source": [
    "# Exercise 2"
   ]
  },
  {
   "cell_type": "code",
   "execution_count": null,
   "id": "852cc2e5",
   "metadata": {},
   "outputs": [],
   "source": [
    "res.reaches[\"101l1\"]"
   ]
  },
  {
   "cell_type": "code",
   "execution_count": null,
   "id": "85222987",
   "metadata": {},
   "outputs": [],
   "source": [
    "res.reaches[\"101l1\"].length"
   ]
  },
  {
   "cell_type": "code",
   "execution_count": null,
   "id": "77f5859f",
   "metadata": {},
   "outputs": [],
   "source": [
    "res.reaches[\"101l1\"].n_gridpoints"
   ]
  },
  {
   "cell_type": "code",
   "execution_count": null,
   "id": "8ad809bd",
   "metadata": {},
   "outputs": [],
   "source": [
    "res.reaches[\"101l1\"].WaterLevel.plot()"
   ]
  },
  {
   "cell_type": "code",
   "execution_count": null,
   "id": "f1b91f9b",
   "metadata": {},
   "outputs": [],
   "source": [
    "res.reaches[\"101l1\"].Discharge.plot()"
   ]
  },
  {
   "cell_type": "code",
   "execution_count": null,
   "id": "d9d1c9e9",
   "metadata": {},
   "outputs": [],
   "source": []
  }
 ],
 "metadata": {},
 "nbformat": 4,
 "nbformat_minor": 5
}
