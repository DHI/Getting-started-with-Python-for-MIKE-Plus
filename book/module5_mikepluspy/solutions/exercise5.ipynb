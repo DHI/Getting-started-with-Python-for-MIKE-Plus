{
 "cells": [
  {
   "cell_type": "code",
   "execution_count": null,
   "id": "c5856fc3",
   "metadata": {},
   "outputs": [],
   "source": [
    "from shutil import copy2\n",
    "import mikeplus as mp\n",
    "\n",
    "db_original = \"Dyrup_uncalibrated.sqlite\"\n",
    "db_path = \"Dyrup_uncalibrated_ex5_copy.sqlite\"\n",
    "\n",
    "copy2(db_original, db_path)"
   ]
  },
  {
   "cell_type": "code",
   "execution_count": null,
   "id": "ae03ad32",
   "metadata": {},
   "outputs": [],
   "source": [
    "conc_times_sec = [1200, 1500, 1800, 2100, 2400]\n",
    "r_factors = [0.6, 0.7, 0.8, 0.9, 1.0]"
   ]
  },
  {
   "cell_type": "code",
   "execution_count": null,
   "id": "fcfa9eaf",
   "metadata": {},
   "outputs": [],
   "source": [
    "with mp.open(db_path) as db:\n",
    "\n",
    "    alt_group = db.alternative_groups[\"Catchments and hydrology data\"]\n",
    "\n",
    "    for tc, r in zip(conc_times_sec, r_factors):\n",
    "\n",
    "        name = f\"Trial (tc={tc:.0f}, r={r:.3f})\"\n",
    "        alternative = alt_group.create(name)\n",
    "        scenario = db.scenarios.create(name)\n",
    "        scenario.set_alternative(alternative)\n",
    "        scenario.activate()\n",
    "\n",
    "        (\n",
    "            db.tables.msm_Catchment\n",
    "                .update({\n",
    "                    db.tables.msm_Catchment.columns.ModelAConcTime : tc,\n",
    "                    db.tables.msm_Catchment.columns.ModelARFactor : r\n",
    "                })\n",
    "                .all()\n",
    "                .execute()\n",
    "        )\n",
    "\n",
    "        (\n",
    "            db.tables.msm_Project\n",
    "                .update({\n",
    "                    db.tables.msm_Project.columns.ScenarioName : scenario.name\n",
    "                })\n",
    "                .by_muid(\"rainfall\")\n",
    "                .execute()\n",
    "        )\n",
    "\n",
    "        result_files = db.run(\"rainfall\")\n",
    "\n",
    "        print(scenario)\n",
    "        print(result_files)\n",
    "\n"
   ]
  }
 ],
 "metadata": {},
 "nbformat": 4,
 "nbformat_minor": 5
}
