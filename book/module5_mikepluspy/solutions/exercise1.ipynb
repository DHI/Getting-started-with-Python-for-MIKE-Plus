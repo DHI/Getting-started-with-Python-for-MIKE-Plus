{
 "cells": [
  {
   "cell_type": "code",
   "execution_count": null,
   "id": "bc081c60",
   "metadata": {},
   "outputs": [],
   "source": [
    "import mikeplus as mp"
   ]
  },
  {
   "cell_type": "code",
   "execution_count": null,
   "id": "b4c4fd69",
   "metadata": {},
   "outputs": [],
   "source": [
    "with mp.open(\"Dyrup_uncalibrated.sqlite\") as db:\n",
    "    print(db.version)\n",
    "    print(db.active_model)\n",
    "    print(db.active_scenario)"
   ]
  },
  {
   "cell_type": "code",
   "execution_count": null,
   "id": "bbf5e5a6",
   "metadata": {},
   "outputs": [],
   "source": [
    "with mp.open(\"Dyrup_uncalibrated.sqlite\") as db:\n",
    "    muids = db.tables.msm_Catchment.get_muids()\n",
    "    print(muids[:5])"
   ]
  },
  {
   "cell_type": "code",
   "execution_count": null,
   "id": "e712d912",
   "metadata": {},
   "outputs": [],
   "source": [
    "with mp.open(\"Dyrup_uncalibrated.sqlite\") as db:\n",
    "    display(\n",
    "        db.tables.msm_Catchment\n",
    "            .select([\n",
    "                db.tables.msm_Catchment.columns.Area,\n",
    "                db.tables.msm_Catchment.columns.ModelAConcTime,\n",
    "                db.tables.msm_Catchment.columns.ModelARFactor,\n",
    "            ])\n",
    "            .to_dataframe()\n",
    "            .head()\n",
    "    )"
   ]
  }
 ],
 "metadata": {},
 "nbformat": 4,
 "nbformat_minor": 5
}
