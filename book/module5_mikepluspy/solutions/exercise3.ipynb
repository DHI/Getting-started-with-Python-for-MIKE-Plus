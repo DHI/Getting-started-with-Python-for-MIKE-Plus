{
 "cells": [
  {
   "cell_type": "code",
   "execution_count": null,
   "id": "0e4713e0",
   "metadata": {},
   "outputs": [],
   "source": [
    "import mikeplus as mp\n",
    "\n",
    "db_path = \"Dyrup_uncalibrated_ex2_copy.sqlite\""
   ]
  },
  {
   "cell_type": "code",
   "execution_count": null,
   "id": "ad99094c",
   "metadata": {},
   "outputs": [],
   "source": [
    "with mp.open(db_path) as db:\n",
    "    display(\n",
    "        db.alternative_groups.group_names()\n",
    "    )"
   ]
  },
  {
   "cell_type": "code",
   "execution_count": null,
   "id": "890bee48",
   "metadata": {},
   "outputs": [],
   "source": [
    "with mp.open(db_path) as db:\n",
    "    # alternative and scenario objects expire after database closes\n",
    "    alt_group = db.alternative_groups[\"Catchments and hydrology data\"]\n",
    "    alternative = alt_group.create(\"High_ConcTime_AllCatchments\")\n",
    "    scenario = db.scenarios.create(\"Scenario_High_Tc\")\n",
    "    scenario.set_alternative(alternative)\n",
    "    scenario.activate()"
   ]
  },
  {
   "cell_type": "code",
   "execution_count": null,
   "id": "b18bbcdc",
   "metadata": {},
   "outputs": [],
   "source": [
    "with mp.open(db_path) as db:\n",
    "    display(\n",
    "        db.tables.msm_Catchment\n",
    "            .update({\n",
    "                db.tables.msm_Catchment.columns.ModelAConcTime : 3600\n",
    "            })\n",
    "            .all()\n",
    "            .execute()\n",
    "    )"
   ]
  },
  {
   "cell_type": "code",
   "execution_count": null,
   "id": "e7cdbbc9",
   "metadata": {},
   "outputs": [],
   "source": [
    "with mp.open(db_path) as db:\n",
    "    display(\n",
    "        db.tables.msm_Catchment\n",
    "            .select([\n",
    "                db.tables.msm_Catchment.columns.ModelAConcTime\n",
    "            ])\n",
    "            .to_dataframe()\n",
    "            .head()\n",
    "    )"
   ]
  },
  {
   "cell_type": "code",
   "execution_count": null,
   "id": "2e87a01f",
   "metadata": {},
   "outputs": [],
   "source": [
    "with mp.open(db_path) as db:\n",
    "    db.scenarios.base.activate()\n",
    "    display(\n",
    "        db.tables.msm_Catchment\n",
    "            .select([\n",
    "                db.tables.msm_Catchment.columns.ModelAConcTime\n",
    "            ])\n",
    "            .to_dataframe()\n",
    "            .head()\n",
    "    )"
   ]
  }
 ],
 "metadata": {},
 "nbformat": 4,
 "nbformat_minor": 5
}
