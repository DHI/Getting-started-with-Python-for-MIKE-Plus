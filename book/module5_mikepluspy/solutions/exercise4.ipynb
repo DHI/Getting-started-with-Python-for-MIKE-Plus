{
 "cells": [
  {
   "cell_type": "code",
   "execution_count": null,
   "id": "fe6eae69",
   "metadata": {},
   "outputs": [],
   "source": [
    "import mikeplus as mp\n",
    "\n",
    "db_path = \"Dyrup_uncalibrated_ex2_copy.sqlite\""
   ]
  },
  {
   "cell_type": "code",
   "execution_count": null,
   "id": "0a1601ad",
   "metadata": {},
   "outputs": [],
   "source": [
    "with mp.open(db_path) as db:\n",
    "    display(\n",
    "        db.tables.msm_Project\n",
    "            .select()\n",
    "            .by_muid(\"rainfall\")\n",
    "            .to_dataframe()\n",
    "    )"
   ]
  },
  {
   "cell_type": "code",
   "execution_count": null,
   "id": "34d88504",
   "metadata": {},
   "outputs": [],
   "source": [
    "with mp.open(db_path) as db:\n",
    "    display(\n",
    "        list(db.scenarios)\n",
    "    )"
   ]
  },
  {
   "cell_type": "code",
   "execution_count": null,
   "id": "3ad20a73",
   "metadata": {},
   "outputs": [],
   "source": [
    "with mp.open(db_path) as db:\n",
    "    scenario = db.scenarios.by_name(\"Scenario_High_Tc\")\n",
    "    display(\n",
    "        db.tables.msm_Project\n",
    "            .update({\n",
    "                db.tables.msm_Project.columns.ScenarioName : scenario.name\n",
    "            })\n",
    "            .by_muid(\"rainfall\")\n",
    "            .execute()\n",
    "    )\n",
    "    display(\n",
    "        db.tables.msm_Project\n",
    "            .select([db.tables.msm_Project.columns.ScenarioName])\n",
    "            .by_muid(\"rainfall\")\n",
    "            .to_dataframe()\n",
    "    )"
   ]
  },
  {
   "cell_type": "code",
   "execution_count": null,
   "id": "8590a21a",
   "metadata": {},
   "outputs": [],
   "source": [
    "with mp.open(db_path) as db:\n",
    "    result_files = db.run(simulation_muid=\"rainfall\")\n",
    "\n",
    "result_files"
   ]
  },
  {
   "cell_type": "code",
   "execution_count": null,
   "id": "a69291f3",
   "metadata": {},
   "outputs": [],
   "source": []
  }
 ],
 "metadata": {},
 "nbformat": 4,
 "nbformat_minor": 5
}
