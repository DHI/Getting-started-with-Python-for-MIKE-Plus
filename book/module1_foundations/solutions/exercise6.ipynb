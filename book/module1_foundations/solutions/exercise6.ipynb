{
 "cells": [
  {
   "cell_type": "code",
   "execution_count": null,
   "id": "056263ab",
   "metadata": {},
   "outputs": [],
   "source": [
    "import pandas as pd"
   ]
  },
  {
   "cell_type": "code",
   "execution_count": null,
   "id": "307c7a1d",
   "metadata": {},
   "outputs": [],
   "source": [
    "df = pd.read_csv(\"rain_events.csv\", index_col=0, parse_dates=True)\n",
    "df"
   ]
  },
  {
   "cell_type": "code",
   "execution_count": null,
   "id": "b74a6cab",
   "metadata": {},
   "outputs": [],
   "source": [
    "df.min(), df.max(), df.mean()"
   ]
  },
  {
   "cell_type": "code",
   "execution_count": null,
   "id": "613575a0",
   "metadata": {},
   "outputs": [],
   "source": [
    "df.describe()"
   ]
  },
  {
   "cell_type": "code",
   "execution_count": null,
   "id": "45f2af29",
   "metadata": {},
   "outputs": [],
   "source": [
    "df.plot()"
   ]
  }
 ],
 "metadata": {},
 "nbformat": 4,
 "nbformat_minor": 5
}
