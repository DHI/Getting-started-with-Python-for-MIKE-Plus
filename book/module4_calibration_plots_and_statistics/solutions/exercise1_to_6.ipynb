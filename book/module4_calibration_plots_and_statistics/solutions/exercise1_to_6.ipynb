{
 "cells": [
  {
   "cell_type": "code",
   "execution_count": null,
   "id": "39235a68",
   "metadata": {},
   "outputs": [],
   "source": [
    "import modelskill as ms\n",
    "import mikeio\n",
    "import mikeio1d"
   ]
  },
  {
   "cell_type": "markdown",
   "id": "131df409",
   "metadata": {},
   "source": [
    "# Exercise 2"
   ]
  },
  {
   "cell_type": "code",
   "execution_count": null,
   "id": "d7b18ad2",
   "metadata": {},
   "outputs": [],
   "source": [
    "ds_obs_a = mikeio.read(\"data/flow_meter_A_2020_09.dfs0\")\n",
    "ds_obs_a"
   ]
  },
  {
   "cell_type": "code",
   "execution_count": null,
   "id": "33f56a02",
   "metadata": {},
   "outputs": [],
   "source": [
    "ds_obs_b = mikeio.read(\"data/flow_meter_B_2020_09.dfs0\")\n",
    "ds_obs_b"
   ]
  },
  {
   "cell_type": "code",
   "execution_count": null,
   "id": "86b51621",
   "metadata": {},
   "outputs": [],
   "source": [
    "obs_a = ms.PointObservation(ds_obs_a, item=0, name=\"Observation A\")\n",
    "obs_a"
   ]
  },
  {
   "cell_type": "code",
   "execution_count": null,
   "id": "b2218696",
   "metadata": {},
   "outputs": [],
   "source": [
    "obs_b = ms.PointObservation(ds_obs_b, item=0, name=\"Observation B\")\n",
    "obs_b"
   ]
  },
  {
   "cell_type": "code",
   "execution_count": null,
   "id": "e812f023",
   "metadata": {},
   "outputs": [],
   "source": [
    "obs_a.plot.timeseries()"
   ]
  },
  {
   "cell_type": "code",
   "execution_count": null,
   "id": "598df703",
   "metadata": {},
   "outputs": [],
   "source": [
    "obs_b.plot.timeseries()"
   ]
  },
  {
   "cell_type": "markdown",
   "id": "ac53bb80",
   "metadata": {},
   "source": [
    "# Exercise 3"
   ]
  },
  {
   "cell_type": "code",
   "execution_count": null,
   "id": "e4281570",
   "metadata": {},
   "outputs": [],
   "source": [
    "res = mikeio1d.open(\"results/rainfallBaseDefault_Network_HD.res1d\")\n",
    "res"
   ]
  },
  {
   "cell_type": "code",
   "execution_count": null,
   "id": "0689b480",
   "metadata": {},
   "outputs": [],
   "source": [
    "res.reaches[\"G60F380_G60F360_l1\"].Discharge.to_dfs0(\"model_fm_a.dfs0\")"
   ]
  },
  {
   "cell_type": "code",
   "execution_count": null,
   "id": "07f13904",
   "metadata": {},
   "outputs": [],
   "source": [
    "res.reaches[\"G62F070_G62F060_l1\"].Discharge.to_dfs0(\"model_fm_b.dfs0\")"
   ]
  },
  {
   "cell_type": "code",
   "execution_count": null,
   "id": "c90aa7df",
   "metadata": {},
   "outputs": [],
   "source": [
    "mod_a = ms.PointModelResult(\"model_fm_a.dfs0\", item=0, name=\"MIKE+\")\n",
    "mod_a"
   ]
  },
  {
   "cell_type": "code",
   "execution_count": null,
   "id": "c4876923",
   "metadata": {},
   "outputs": [],
   "source": [
    "mod_b = ms.PointModelResult(\"model_fm_b.dfs0\", item=0, name=\"MIKE+\")\n",
    "mod_b"
   ]
  },
  {
   "cell_type": "code",
   "execution_count": null,
   "id": "efddd40c",
   "metadata": {},
   "outputs": [],
   "source": [
    "mod_a.plot.timeseries()"
   ]
  },
  {
   "cell_type": "code",
   "execution_count": null,
   "id": "513540ce",
   "metadata": {},
   "outputs": [],
   "source": [
    "mod_b.plot.timeseries()"
   ]
  },
  {
   "cell_type": "markdown",
   "id": "9aaed632",
   "metadata": {},
   "source": [
    "# Exercise 4"
   ]
  },
  {
   "cell_type": "code",
   "execution_count": null,
   "id": "e9b0ed33",
   "metadata": {},
   "outputs": [],
   "source": [
    "cmp_a = ms.match(obs_a, mod_a)\n",
    "cmp_a"
   ]
  },
  {
   "cell_type": "code",
   "execution_count": null,
   "id": "5b2d6110",
   "metadata": {},
   "outputs": [],
   "source": [
    "cmp_b = ms.match(obs_b, mod_b)\n",
    "cmp_b"
   ]
  },
  {
   "cell_type": "code",
   "execution_count": null,
   "id": "85142ae8",
   "metadata": {},
   "outputs": [],
   "source": [
    "cmp_a.plot.timeseries()"
   ]
  },
  {
   "cell_type": "code",
   "execution_count": null,
   "id": "d3cd6e64",
   "metadata": {},
   "outputs": [],
   "source": [
    "cmp_a.plot.scatter()"
   ]
  },
  {
   "cell_type": "code",
   "execution_count": null,
   "id": "ea793c76",
   "metadata": {},
   "outputs": [],
   "source": [
    "cmp_a.skill()"
   ]
  },
  {
   "cell_type": "code",
   "execution_count": null,
   "id": "e56d8c10",
   "metadata": {},
   "outputs": [],
   "source": [
    "cmp_b.plot.timeseries()"
   ]
  },
  {
   "cell_type": "code",
   "execution_count": null,
   "id": "c0d73251",
   "metadata": {},
   "outputs": [],
   "source": [
    "cmp_b.plot.scatter()"
   ]
  },
  {
   "cell_type": "code",
   "execution_count": null,
   "id": "4e07323a",
   "metadata": {},
   "outputs": [],
   "source": [
    "cmp_b.skill()"
   ]
  },
  {
   "cell_type": "markdown",
   "id": "f1c7deea",
   "metadata": {},
   "source": [
    "# Exercise 5/6"
   ]
  },
  {
   "cell_type": "code",
   "execution_count": null,
   "id": "2b142277",
   "metadata": {},
   "outputs": [],
   "source": [
    "cc = ms.ComparerCollection([\n",
    "    ms.match(obs_a, mod_a, max_model_gap=600),      # exercise 5 is without max_model_gap, while 6 is with\n",
    "    ms.match(obs_b, mod_b,  max_model_gap=600),     # exercise 5 is without max_model_gap, while 6 is with\n",
    "])\n",
    "cc"
   ]
  },
  {
   "cell_type": "code",
   "execution_count": null,
   "id": "3ecfe3d6",
   "metadata": {},
   "outputs": [],
   "source": [
    "cc.obs_names"
   ]
  },
  {
   "cell_type": "code",
   "execution_count": null,
   "id": "ad2a5c20",
   "metadata": {},
   "outputs": [],
   "source": [
    "cc.mod_names"
   ]
  },
  {
   "cell_type": "code",
   "execution_count": null,
   "id": "924e5003",
   "metadata": {},
   "outputs": [],
   "source": [
    "cc.plot.temporal_coverage()"
   ]
  },
  {
   "cell_type": "code",
   "execution_count": null,
   "id": "87afbcb6",
   "metadata": {},
   "outputs": [],
   "source": [
    "cc.plot.scatter()"
   ]
  },
  {
   "cell_type": "code",
   "execution_count": null,
   "id": "68313263",
   "metadata": {},
   "outputs": [],
   "source": [
    "cc.plot.residual_hist()"
   ]
  },
  {
   "cell_type": "code",
   "execution_count": null,
   "id": "f5e6ec1f",
   "metadata": {},
   "outputs": [],
   "source": [
    "cc.skill(metrics=[\"rmse\", \"bias\", \"nse\", \"kge\"])"
   ]
  },
  {
   "cell_type": "code",
   "execution_count": null,
   "id": "31f64bf1",
   "metadata": {},
   "outputs": [],
   "source": [
    "cc.mean_skill(metrics=[\"rmse\", \"bias\", \"nse\", \"kge\"])"
   ]
  },
  {
   "cell_type": "code",
   "execution_count": null,
   "id": "043ab849",
   "metadata": {},
   "outputs": [],
   "source": [
    "cc.score(\"kge\")"
   ]
  }
 ],
 "metadata": {},
 "nbformat": 4,
 "nbformat_minor": 5
}
