{
 "cells": [
  {
   "cell_type": "code",
   "execution_count": null,
   "id": "58b7abf1",
   "metadata": {},
   "outputs": [],
   "source": [
    "import mikeplus as mp"
   ]
  },
  {
   "cell_type": "code",
   "execution_count": null,
   "id": "b8236a14",
   "metadata": {},
   "outputs": [],
   "source": [
    "with mp.open(\"Dyrup_uncalibrated.sqlite\") as db:\n",
    "    display(db.tables.msm_Catchment.to_dataframe())\n"
   ]
  },
  {
   "cell_type": "code",
   "execution_count": null,
   "id": "8150650d",
   "metadata": {},
   "outputs": [],
   "source": [
    "with mp.open(\"Dyrup_uncalibrated.sqlite\") as db:\n",
    "    display(\n",
    "        db.tables.msm_Catchment\n",
    "            .update({\n",
    "                db.tables.msm_Catchment.columns.Area : 10000\n",
    "            })\n",
    "            .by_muid(\"G61F130_7313\")\n",
    "            .execute()\n",
    "    )\n"
   ]
  },
  {
   "cell_type": "code",
   "execution_count": null,
   "id": "584082ad",
   "metadata": {},
   "outputs": [],
   "source": [
    "with mp.open(\"Dyrup_uncalibrated.sqlite\") as db:\n",
    "    db.alternative_groups[\"Catchments and hydrology data\"].create(\"our_alternative\")"
   ]
  }
 ],
 "metadata": {},
 "nbformat": 4,
 "nbformat_minor": 5
}
