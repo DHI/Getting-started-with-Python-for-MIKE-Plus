{
 "cells": [
  {
   "cell_type": "code",
   "execution_count": null,
   "id": "3d92a766",
   "metadata": {},
   "outputs": [],
   "source": [
    "import mikeio"
   ]
  },
  {
   "cell_type": "code",
   "execution_count": null,
   "id": "bf1bb18d",
   "metadata": {},
   "outputs": [],
   "source": [
    "ds = mikeio.read(\"discharge.dfs0\")\n",
    "ds"
   ]
  },
  {
   "cell_type": "code",
   "execution_count": null,
   "id": "82e2cf75",
   "metadata": {},
   "outputs": [],
   "source": [
    "df = ds.to_dataframe()\n",
    "df"
   ]
  },
  {
   "cell_type": "code",
   "execution_count": null,
   "id": "c54d89f2",
   "metadata": {},
   "outputs": [],
   "source": [
    "ax = df.plot()\n",
    "ax.figure.savefig(\"plot1.png\")"
   ]
  },
  {
   "cell_type": "code",
   "execution_count": null,
   "id": "6a26af81",
   "metadata": {},
   "outputs": [],
   "source": [
    "ax = df.plot.scatter(x=\"Model\", y=\"Observed\")\n",
    "ax.figure.savefig(\"plot2.png\")"
   ]
  },
  {
   "cell_type": "code",
   "execution_count": null,
   "id": "429e404f",
   "metadata": {},
   "outputs": [],
   "source": [
    "ax = df.plot.hist(bins=30, alpha=0.4)\n",
    "ax.figure.savefig(\"plot3.png\")"
   ]
  }
 ],
 "metadata": {},
 "nbformat": 4,
 "nbformat_minor": 5
}
