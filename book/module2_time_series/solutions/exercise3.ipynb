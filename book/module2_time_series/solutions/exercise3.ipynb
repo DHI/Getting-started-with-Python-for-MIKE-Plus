{
 "cells": [
  {
   "cell_type": "code",
   "execution_count": null,
   "id": "7a002037",
   "metadata": {},
   "outputs": [],
   "source": [
    "import mikeio"
   ]
  },
  {
   "cell_type": "code",
   "execution_count": null,
   "id": "8d9516fa",
   "metadata": {},
   "outputs": [],
   "source": [
    "ds = mikeio.read(\"water_level.dfs0\")\n",
    "ds"
   ]
  },
  {
   "cell_type": "code",
   "execution_count": null,
   "id": "4a503e85",
   "metadata": {},
   "outputs": [],
   "source": [
    "df = ds.to_dataframe()\n",
    "df"
   ]
  },
  {
   "cell_type": "code",
   "execution_count": null,
   "id": "c815cbca",
   "metadata": {},
   "outputs": [],
   "source": [
    "df.resample(\"1min\").interpolate(method=\"time\")"
   ]
  },
  {
   "cell_type": "code",
   "execution_count": null,
   "id": "0206b4d6",
   "metadata": {},
   "outputs": [],
   "source": [
    "df.resample(\"60min\").mean()"
   ]
  },
  {
   "cell_type": "code",
   "execution_count": null,
   "id": "4b08211a",
   "metadata": {},
   "outputs": [],
   "source": [
    "df.resample(\"1min\").bfill()"
   ]
  },
  {
   "cell_type": "code",
   "execution_count": null,
   "id": "b857e9c2",
   "metadata": {},
   "outputs": [],
   "source": [
    "df.resample(\"60min\").ffill()"
   ]
  }
 ],
 "metadata": {},
 "nbformat": 4,
 "nbformat_minor": 5
}
