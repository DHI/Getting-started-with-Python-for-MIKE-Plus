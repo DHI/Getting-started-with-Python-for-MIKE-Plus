{
 "cells": [
  {
   "cell_type": "code",
   "execution_count": null,
   "id": "1ebbd670",
   "metadata": {},
   "outputs": [],
   "source": [
    "import mikeio"
   ]
  },
  {
   "cell_type": "code",
   "execution_count": null,
   "id": "fce44d06",
   "metadata": {},
   "outputs": [],
   "source": [
    "ds = mikeio.read(\"water_level.dfs0\", time=slice(\"1993-12-02 16:00\", \"1993-12-02 20:00\"))\n",
    "ds"
   ]
  },
  {
   "cell_type": "code",
   "execution_count": null,
   "id": "984035ad",
   "metadata": {},
   "outputs": [],
   "source": [
    "df = ds.to_dataframe()\n",
    "df"
   ]
  },
  {
   "cell_type": "code",
   "execution_count": null,
   "id": "3ce638af",
   "metadata": {},
   "outputs": [],
   "source": [
    "df.plot()"
   ]
  },
  {
   "cell_type": "code",
   "execution_count": null,
   "id": "8f33c352",
   "metadata": {},
   "outputs": [],
   "source": [
    "df.iloc[:3]"
   ]
  },
  {
   "cell_type": "code",
   "execution_count": null,
   "id": "49f798f6",
   "metadata": {},
   "outputs": [],
   "source": [
    "df.loc[\"1993-12-02 16:00:00\" : \"1993-12-02 17:00:00\"]"
   ]
  }
 ],
 "metadata": {},
 "nbformat": 4,
 "nbformat_minor": 5
}
