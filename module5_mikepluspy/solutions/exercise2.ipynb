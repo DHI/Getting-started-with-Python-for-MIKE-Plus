{
 "cells": [
  {
   "cell_type": "code",
   "execution_count": null,
   "id": "aa64a50f",
   "metadata": {},
   "outputs": [],
   "source": [
    "from shutil import copy2\n",
    "import mikeplus as mp\n",
    "\n",
    "db_original = \"Dyrup_uncalibrated.sqlite\"\n",
    "db_path = \"Dyrup_uncalibrated_ex2_copy.sqlite\"\n",
    "\n",
    "copy2(db_original, db_path)"
   ]
  },
  {
   "cell_type": "code",
   "execution_count": null,
   "id": "53eec4ff",
   "metadata": {},
   "outputs": [],
   "source": [
    "with mp.open(db_path) as db:\n",
    "    display(\n",
    "        db.tables.msm_Catchment\n",
    "            .select([\n",
    "                db.tables.msm_Catchment.columns.ModelAConcTime,\n",
    "            ])\n",
    "            .by_muid([\"G61F080_7311\", \"G61F375_7353\"])\n",
    "            .to_dataframe()\n",
    "    )"
   ]
  },
  {
   "cell_type": "code",
   "execution_count": null,
   "id": "b5de4d15",
   "metadata": {},
   "outputs": [],
   "source": [
    "with mp.open(db_path) as db:\n",
    "    display(\n",
    "        db.tables.msm_Catchment\n",
    "            .update({\n",
    "                db.tables.msm_Catchment.columns.ModelAConcTime : 1800\n",
    "            })\n",
    "            .by_muid([\"G61F080_7311\", \"G61F375_7353\"])\n",
    "            .execute()\n",
    "    )\n",
    "\n",
    "with mp.open(db_path) as db:\n",
    "    display(\n",
    "        db.tables.msm_Catchment\n",
    "            .select([\n",
    "                db.tables.msm_Catchment.columns.ModelAConcTime,\n",
    "            ])\n",
    "            .by_muid([\"G61F080_7311\", \"G61F375_7353\"])\n",
    "            .to_dataframe()\n",
    "    )"
   ]
  }
 ],
 "metadata": {},
 "nbformat": 4,
 "nbformat_minor": 5
}
