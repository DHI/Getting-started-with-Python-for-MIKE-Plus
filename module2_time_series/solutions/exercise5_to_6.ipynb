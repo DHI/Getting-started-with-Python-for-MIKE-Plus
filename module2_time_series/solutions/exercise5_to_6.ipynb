{
 "cells": [
  {
   "cell_type": "markdown",
   "id": "d16141d1",
   "metadata": {},
   "source": [
    "# Exercise 5"
   ]
  },
  {
   "cell_type": "code",
   "execution_count": null,
   "id": "0046480e",
   "metadata": {},
   "outputs": [],
   "source": [
    "import pandas as pd"
   ]
  },
  {
   "cell_type": "code",
   "execution_count": null,
   "id": "f9549e50",
   "metadata": {},
   "outputs": [],
   "source": [
    "df = pd.read_csv(\"rain_events_2021_june.csv\", index_col=0, parse_dates=True)\n",
    "df"
   ]
  },
  {
   "cell_type": "code",
   "execution_count": null,
   "id": "72586b04",
   "metadata": {},
   "outputs": [],
   "source": [
    "df.isna().sum()"
   ]
  },
  {
   "cell_type": "code",
   "execution_count": null,
   "id": "2133f6df",
   "metadata": {},
   "outputs": [],
   "source": [
    "# find specific indices where nan\n",
    "df[df.isna().values]"
   ]
  },
  {
   "cell_type": "code",
   "execution_count": null,
   "id": "86f40235",
   "metadata": {},
   "outputs": [],
   "source": [
    "df = df.interpolate(method=\"time\")\n",
    "df"
   ]
  },
  {
   "cell_type": "markdown",
   "id": "0c21210b",
   "metadata": {},
   "source": [
    "# Exercise 6"
   ]
  },
  {
   "cell_type": "code",
   "execution_count": null,
   "id": "7f2f636e",
   "metadata": {},
   "outputs": [],
   "source": [
    "import mikeio"
   ]
  },
  {
   "cell_type": "code",
   "execution_count": null,
   "id": "93aa4467",
   "metadata": {},
   "outputs": [],
   "source": [
    "item_info = mikeio.ItemInfo(\n",
    "    name=\"Rainfall\",\n",
    "    itemtype=mikeio.EUMType.Rainfall_Intensity,\n",
    "    unit=mikeio.EUMUnit.mu_m_per_sec,\n",
    "    data_value_type=\"MeanStepBackward\"\n",
    ")\n",
    "item_info"
   ]
  },
  {
   "cell_type": "code",
   "execution_count": null,
   "id": "3d499c2c",
   "metadata": {},
   "outputs": [],
   "source": [
    "ds = mikeio.from_pandas(df, items=item_info)\n",
    "ds"
   ]
  },
  {
   "cell_type": "code",
   "execution_count": null,
   "id": "952c97fe",
   "metadata": {},
   "outputs": [],
   "source": [
    "ds.to_dfs(\"rainfall.dfs0\")"
   ]
  },
  {
   "cell_type": "code",
   "execution_count": null,
   "id": "dbaa3b45",
   "metadata": {},
   "outputs": [],
   "source": [
    "ds = mikeio.read(\"rainfall.dfs0\")\n",
    "ds"
   ]
  },
  {
   "cell_type": "code",
   "execution_count": null,
   "id": "f10ac612",
   "metadata": {},
   "outputs": [],
   "source": [
    "ds.describe()"
   ]
  }
 ],
 "metadata": {},
 "nbformat": 4,
 "nbformat_minor": 5
}
