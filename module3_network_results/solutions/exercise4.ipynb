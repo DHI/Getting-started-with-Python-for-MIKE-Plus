{
 "cells": [
  {
   "cell_type": "code",
   "execution_count": null,
   "id": "e6d57ed2",
   "metadata": {},
   "outputs": [],
   "source": [
    "import mikeio1d"
   ]
  },
  {
   "cell_type": "code",
   "execution_count": null,
   "id": "575b5217",
   "metadata": {},
   "outputs": [],
   "source": [
    "res = mikeio1d.open(\"network.res1d\")\n",
    "res"
   ]
  },
  {
   "cell_type": "code",
   "execution_count": null,
   "id": "d95e878d",
   "metadata": {},
   "outputs": [],
   "source": [
    "res.reaches[\"100l1\"][0]"
   ]
  },
  {
   "cell_type": "code",
   "execution_count": null,
   "id": "5b41970c",
   "metadata": {},
   "outputs": [],
   "source": [
    "res.reaches[\"100l1\"][0].WaterLevel.plot()"
   ]
  },
  {
   "cell_type": "code",
   "execution_count": null,
   "id": "8df0e9aa",
   "metadata": {},
   "outputs": [],
   "source": [
    "res.reaches[\"100l1\"][-1]"
   ]
  },
  {
   "cell_type": "code",
   "execution_count": null,
   "id": "7a68249c",
   "metadata": {},
   "outputs": [],
   "source": [
    "res.reaches[\"100l1\"][-1].WaterLevel.plot()"
   ]
  }
 ],
 "metadata": {},
 "nbformat": 4,
 "nbformat_minor": 5
}
